{
 "cells": [
  {
   "cell_type": "code",
   "execution_count": 11,
   "metadata": {},
   "outputs": [
    {
     "data": {
      "text/plain": [
       "19"
      ]
     },
     "execution_count": 11,
     "metadata": {},
     "output_type": "execute_result"
    }
   ],
   "source": [
    "# Uy! si Loonie yun ah?\n",
    "# Tara lapitan natin.\n",
    "# Idol FlipTop tayu.\n",
    "# Tara isa lang kuya. Sige na...\n",
    "# Parinig naman ng rap mo! sample naman d'yan\n",
    "# Ang ganda naman ng cap mo! arbor nalang yan\n",
    "# Ang yabang mo naman! wala ka bang kanta na bago?\n",
    "# Bakit wala kang battle? Takot ka bang matalo? Ha?\n",
    "# Paulit-ulit ang tanong ng mga tao\n",
    "# Wag sanang apurado, anong magagawa ko?\n",
    "# Wala akong maisip, masyado pang mainit\n",
    "# Akala mo tuloy mukhang suplado pag tahimik\n",
    "# Pagod lang talaga, galing gig Tuguegarao\n",
    "# Walong oras sa van, tatlong oras sa kalabaw\n",
    "# Tapos pag uwi ko pa para bang hindi ko malaman\n",
    "# kung bakit ang buhay ko ay para bang naging pelikula\n",
    "# Laging puyat! Nagkalat ang papel na nilamukos\n",
    "# Andame ng kapeng ipinautos\n",
    "# Tinta ng aking bolpen, malapit ng maubos\n",
    "# Isang patak na lang pero aking ibubuhos\n",
    "# Mali ba na magkamali ang 'sang tulad ko\n",
    "# Ako ay tao lang din naman na tulad mo\n",
    "# Ano ba ang dapat na gawin\n",
    "# Dapat bang kamuhian o dapat ba na tularan ang 'sang tulad ko na tao lang\n",
    "# Pasensya na, tao lang\n",
    "# Pasensya na, tao lang\n",
    "# Pasensya na, tao lang\n",
    "# Sapul sa pagkabata, sablay nung tumanda\n",
    "# Lumakad humakbang hanggang sa madapa\n",
    "# Wag kang mawawalan ng pag-asa, wag kang madadala\n",
    "# Kung wala ka pang mali wala ka pang nagagawa\n",
    "# Madadapa ka muna bago ka matutong lumakad\n",
    "# Ang buhay ay utang, hulugan ang bayad\n",
    "# Kaya wag kang matakot magkamali\n",
    "# Pero alalay lang wag kang masyadong magmadali\n",
    "# Yan ang sabi sa akin ng aking itay\n",
    "# Na pinapaalala palagi sakin ni inay na kadalasan ay\n",
    "# hindi nasusunod\n",
    "# Ayoko ng sumali, gusto kong manuod\n",
    "# Minsan wala ng gana, ayoko ng mag Rap\n",
    "# Kase akala ko dati, alam ko na lahat\n",
    "# Yun pala kulang pa ang kaalaman kong labis\n",
    "# Ngayon alam ko na kung ba't may pambura ang lapis\n",
    "# Mali ba na magkamali ang 'sang tulad ko\n",
    "# Ako ay tao lang din naman na tulad mo\n",
    "# Ano ba ang dapat na gawin\n",
    "# Dapat bang kamuhian o dapat ba na tularan ang 'sang tulad ko na tao lang\n",
    "# Pasensya na, tao lang\n",
    "# Pasensya na, tao lang\n",
    "# Pasensya na\n",
    "# Pero di ba tao ka lang din, hindi mo ba napansin?\n",
    "# Kahit anong taas mo na, titingala ka pa rin\n",
    "# Kahit planuhin mong mabuti, bakit ganun pa din?\n",
    "# Di maiwasan na magkamali kahit anong gawin\n",
    "# Kadalasan, nangyayari ay ang kabaliktaran\n",
    "# Marami kang detalye na makakaligtaan\n",
    "# Mamamali ka ng daan lalo kung wala kang g'anong alam\n",
    "# Ano magagawa mo? Tao ka lang\n",
    "# Napapagod, natatakot, naiinip\n",
    "# Natatawa, nagtataka, naiinggit\n",
    "# Nangangawit, nagagalit, nabibigla\n",
    "# Nalulungkot, nauutot, nahihiya\n",
    "# Natutukso, nakukonsensya, nauubusan din ng pasensya\n",
    "# Nasasaktan, nagmumura pero nagmamahal pa rin kahit natuto na\n",
    "# Mali ba na magkamali ang 'sang tulad ko\n",
    "# Ako ay tao lang din naman na tulad mo\n",
    "# Ano ba ang dapat na gawin\n",
    "# Dapat bang kamuhian o dapat ba na tularan ang 'sang tulad ko na tao lang\n",
    "# Mali ba na magkamali ang 'sang tulad ko\n",
    "# Ako ay tao lang din naman na tulad mo (tao lang pasensya na)\n",
    "# Ano ba ang dapat na gawin (ano ba)\n",
    "# Dapat bang kamuhian (ano ba)\n",
    "# O dapat ba na tularan ang 'sang tulad ko na tao lang\n",
    "# Pasensya na, tao lang\n",
    "# Pasensya na, tao lang\n",
    "# Kagaya mo, tao lang\n",
    "# Pasensya na... tao yeah\n",
    "# Pasensya na, wala tayong pagkakaiba.\n",
    "# Pasensya na, sorry naman\n",
    "# Kung pwede lang sanang isoli na lang\n",
    "# Pasensya na\n",
    "# Songwriters: Marlon \"Loonie\" Peroramas"
   ]
  }
 ],
 "metadata": {
  "kernelspec": {
   "display_name": "Python 3",
   "language": "python",
   "name": "python3"
  },
  "language_info": {
   "codemirror_mode": {
    "name": "ipython",
    "version": 3
   },
   "file_extension": ".py",
   "mimetype": "text/x-python",
   "name": "python",
   "nbconvert_exporter": "python",
   "pygments_lexer": "ipython3",
   "version": "3.7.0"
  }
 },
 "nbformat": 4,
 "nbformat_minor": 2
}
