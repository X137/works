{
 "cells": [
  {
   "cell_type": "code",
   "execution_count": null,
   "metadata": {},
   "outputs": [],
   "source": [
    "\n",
    "public static void main(String[] args) {\n",
    "        User user = new User(\"\", \"\", \"http://en.wikipedia.org/w/api.php\");\n",
    "        user.login();\n",
    "\n",
    "        String[] titles = {\"Data science\"};\n",
    "        List<Page> pageList = user.queryContent(titles);\n",
    "\n",
    "        for (Page page : pageList) {\n",
    "            WikiModel wikiModel = new WikiModel(\"${image}\", \"${title}\");\n",
    "            out.println(\"Image Base URL: \" + wikiModel.getImageBaseURL() + \"\\n\"\n",
    "                    + \"Page Name: \" + wikiModel.getPageName() + \"\\n\"\n",
    "                    + \"Wiki Base URL: \" + wikiModel.getWikiBaseURL());\n",
    "            String htmlStr = wikiModel.render(\"This is a simple [[Hello World]] wiki tag\");\n",
    "            System.out.println(htmlStr);\n",
    "\n",
    "            String htmlText = wikiModel.render(page.toString());\n",
    "            out.println(\"Title: \" + page.getTitle() + \"\\n\"\n",
    "                    + \"Image URL: \" + page.getImageUrl()+ \"\\n\"\n",
    "                    + \"Timestamp: \" + page.getCurrentRevision().getTimestamp());\n",
    "            \n",
    "            List <Reference> referenceList = wikiModel.getReferences();\n",
    "            out.println(referenceList.size());\n",
    "            for(Reference reference : referenceList) {\n",
    "                out.println(reference.getRefString());\n",
    "            }\n",
    "            \n",
    "            ITableOfContent toc = wikiModel.getTableOfContent();\n",
    "            List<SectionHeader> sections = toc.getSectionHeaders();\n",
    "            for(SectionHeader sh : sections) {\n",
    "                out.println(sh.getFirst());\n",
    "            }\n",
    "            \n",
    "            out.println(htmlText);\n",
    "        }\n",
    "    }\n",
    "\n",
    "ut.sort(key=keyfun, reverse=True) # sort in-place\n",
    "\n",
    "\n",
    "\n"
   ]
  },
  {
   "cell_type": "code",
   "execution_count": null,
   "metadata": {},
   "outputs": [],
   "source": []
  }
 ],
 "metadata": {
  "kernelspec": {
   "display_name": "Python 3",
   "language": "python",
   "name": "python3"
  },
  "language_info": {
   "codemirror_mode": {
    "name": "ipython",
    "version": 3
   },
   "file_extension": ".py",
   "mimetype": "text/x-python",
   "name": "python",
   "nbconvert_exporter": "python",
   "pygments_lexer": "ipython3",
   "version": "3.7.0"
  }
 },
 "nbformat": 4,
 "nbformat_minor": 2
}
