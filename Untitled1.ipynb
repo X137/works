{
 "cells": [
  {
   "cell_type": "code",
   "execution_count": 1,
   "metadata": {},
   "outputs": [
    {
     "name": "stdout",
     "output_type": "stream",
     "text": [
      "10\n",
      "100\n"
     ]
    },
    {
     "data": {
      "text/plain": [
       "100"
      ]
     },
     "execution_count": 1,
     "metadata": {},
     "output_type": "execute_result"
    }
   ],
   "source": [
    "class MyClass(object):\n",
    "\n",
    "    def set_val(self, val):\n",
    "        self.value = val\n",
    "\n",
    "    def get_val(self):\n",
    "        print(self.value)\n",
    "        return self.value\n",
    "\n",
    "a = MyClass()\n",
    "b = MyClass()\n",
    "\n",
    "a.set_val(10)\n",
    "b.set_val(100)\n",
    "\n",
    "a.get_val()\n",
    "b.get_val()"
   ]
  },
  {
   "cell_type": "code",
   "execution_count": 2,
   "metadata": {},
   "outputs": [
    {
     "name": "stdout",
     "output_type": "stream",
     "text": [
      "Rover wags tail\n",
      "Fluffy purrs\n",
      "Lucky purrs\n",
      "Scout wags tail\n"
     ]
    }
   ],
   "source": [
    "class Animal(object):\n",
    "\n",
    "    def __init__(self, name):\n",
    "        self.name = name\n",
    "\n",
    "    def eat(self, food):\n",
    "        print('{0} eats {1}'.format(self.name, food))\n",
    "\n",
    "\n",
    "class Dog(Animal):\n",
    "\n",
    "    def fetch(self, thing):\n",
    "        print('{0} goes after the {1}!'.format(self.name, thing))\n",
    "\n",
    "    def show_affection(self):\n",
    "        print('{0} wags tail'.format(self.name))\n",
    "\n",
    "\n",
    "class Cat(Animal):\n",
    "\n",
    "    def swatstring(self):\n",
    "        print('{0} shreds more string'.format(self.name))\n",
    "\n",
    "    def show_affection(self):\n",
    "        print('{0} purrs'.format(self.name))\n",
    "\n",
    "for a in (Dog('Rover'), Cat('Fluffy'), Cat('Lucky'), Dog('Scout')):\n",
    "    a.show_affection()\n",
    "\n",
    "\n",
    "\n",
    "\n",
    "\n",
    "\n",
    "\n",
    "\n",
    "\n"
   ]
  },
  {
   "cell_type": "code",
   "execution_count": 5,
   "metadata": {},
   "outputs": [
    {
     "name": "stdout",
     "output_type": "stream",
     "text": [
      "3\n",
      "5\n",
      "3\n"
     ]
    }
   ],
   "source": [
    "text = [\"Hello\", \"Hola\", \"helo\"]\n",
    "print(len(text))\n",
    "\n",
    "print(len(\"Hello\"))\n",
    "print(len({'a': 1, 'b': 2, 'c': 3}))\n"
   ]
  },
  {
   "cell_type": "code",
   "execution_count": 9,
   "metadata": {},
   "outputs": [
    {
     "name": "stdout",
     "output_type": "stream",
     "text": [
      "\n",
      "Doing this in C\n",
      " some tesssss\n",
      "\n",
      "Print the Method Resolution Order\n",
      "[<class '__main__.D'>, <class '__main__.B'>, <class '__main__.A'>, <class '__main__.C'>, <class 'object'>]\n"
     ]
    }
   ],
   "source": [
    "\n",
    "class A(object):\n",
    "\n",
    "    def dothat(self):\n",
    "        print(\"Doing this in A\")\n",
    "\n",
    "\n",
    "class B(A):\n",
    "    def test(self):\n",
    "        print(\" some tesssss\")\n",
    "    \n",
    "\n",
    "\n",
    "\n",
    "class C(object):\n",
    "\n",
    "    def dothis(self):\n",
    "        print(\"\\nDoing this in C\")\n",
    "\n",
    "class D(B, C):\n",
    "    \"\"\"Multiple Inheritance,\n",
    "    D inheriting from both B and C\"\"\"\n",
    "    pass\n",
    "\n",
    "d_instance = D()\n",
    "\n",
    "d_instance.dothis()\n",
    "d_instance.test()\n",
    "\n",
    "print(\"\\nPrint the Method Resolution Order\")\n",
    "print(D.mro())\n"
   ]
  },
  {
   "cell_type": "code",
   "execution_count": 12,
   "metadata": {},
   "outputs": [
    {
     "data": {
      "text/plain": [
       "'false'"
      ]
     },
     "execution_count": 12,
     "metadata": {},
     "output_type": "execute_result"
    }
   ],
   "source": [
    "'true' if False else 'false'"
   ]
  },
  {
   "cell_type": "code",
   "execution_count": 22,
   "metadata": {},
   "outputs": [
    {
     "name": "stdout",
     "output_type": "stream",
     "text": [
      "[\n",
      "This happened!\n",
      "]\n",
      "CCCCCCCCCC\n"
     ]
    }
   ],
   "source": [
    "\n",
    "def hihiih(my_function):    # <-- (4)\n",
    "    def inner_decorator():        # <-- (5)\n",
    "        print(\"[\")  # <-- (6)\n",
    "        my_function()             # <-- (7)\n",
    "        print(\"]\")    # <-- (10)\n",
    "        print(\"CCCCCCCCCC\")    # <-- (11)\n",
    "    return inner_decorator\n",
    "    # return None\n",
    "@hihiih       # <-- (3)\n",
    "def my_decorated():    # <-- (2) <-- (8)\n",
    "    print(\"This happened!\")   # <-- (9)\n",
    "\n",
    "if __name__ == '__main__':\n",
    "    my_decorated()    # <-- (1)\n",
    "\n",
    "    "
   ]
  },
  {
   "cell_type": "code",
   "execution_count": 23,
   "metadata": {},
   "outputs": [
    {
     "name": "stdout",
     "output_type": "stream",
     "text": [
      "2019-07-22 05:29:01.718475\n",
      "This happened!\n",
      "2019-07-22 05:29:01.718475\n"
     ]
    }
   ],
   "source": [
    "import datetime\n",
    "\n",
    "\n",
    "def my_decorator(inner):\n",
    "    def inner_decorator():\n",
    "        print(datetime.datetime.utcnow())\n",
    "        inner()\n",
    "        print(datetime.datetime.utcnow())\n",
    "    return inner_decorator\n",
    "\n",
    "\n",
    "@my_decorator\n",
    "def decorated():\n",
    "    print(\"This happened!\")\n",
    "\n",
    "if __name__ == \"__main__\":\n",
    "    decorated()"
   ]
  },
  {
   "cell_type": "code",
   "execution_count": 27,
   "metadata": {},
   "outputs": [
    {
     "name": "stdout",
     "output_type": "stream",
     "text": [
      "('Hello, how are you?',) {}\n",
      "This happened : tesss\n"
     ]
    }
   ],
   "source": [
    "\n",
    "def decorator(inner):\n",
    "    def inner_decorator(*args, **kwargs):\n",
    "        print(args, kwargs)\n",
    "        inner(\"tesss\")\n",
    "    return inner_decorator\n",
    "\n",
    "\n",
    "@decorator\n",
    "def decorated(string_args):\n",
    "    print(\"This happened : \" + string_args)\n",
    "\n",
    "if __name__ == \"__main__\":\n",
    "    decorated(\"Hello, how are you?\")"
   ]
  },
  {
   "cell_type": "code",
   "execution_count": 30,
   "metadata": {},
   "outputs": [
    {
     "name": "stdout",
     "output_type": "stream",
     "text": [
      "8.0\n"
     ]
    }
   ],
   "source": [
    "def handle_exceptions(func_name):\n",
    "    def inner(*args, **kwargs):\n",
    "        try:\n",
    "            return func_name(*args, **kwargs)\n",
    "        except Exception:\n",
    "            print(\"An exception was thrown : \", Exception)\n",
    "    return inner\n",
    "\n",
    "\n",
    "# 1. Main function\n",
    "@handle_exceptions\n",
    "def divide(x, y):\n",
    "    return x / y\n",
    "\n",
    "print(divide(8, 1))"
   ]
  },
  {
   "cell_type": "code",
   "execution_count": 31,
   "metadata": {},
   "outputs": [
    {
     "name": "stdout",
     "output_type": "stream",
     "text": [
      "This function takes 1 arguments\n",
      "This happened: Hello\n",
      "This function takes 2 arguments\n",
      "Sum of 1and2: 3\n"
     ]
    }
   ],
   "source": [
    "def decorator(inner):\n",
    "    def inner_decorator(*args, **kwargs):\n",
    "        print(\"This function takes \" + str(len(args)) + \" arguments\")\n",
    "        inner(*args)\n",
    "    return inner_decorator\n",
    "\n",
    "\n",
    "@decorator\n",
    "def decorated(string_args):\n",
    "    print(\"This happened: \" + str(string_args))\n",
    "\n",
    "\n",
    "@decorator\n",
    "def alsoDecorated(num1, num2):\n",
    "    print(\"Sum of \" + str(num1) + \"and\" + str(num2) + \": \" + str(num1 + num2))\n",
    "\n",
    "\n",
    "if __name__ == \"__main__\":\n",
    "    decorated(\"Hello\")\n",
    "    alsoDecorated(1, 2)"
   ]
  }
 ],
 "metadata": {
  "kernelspec": {
   "display_name": "Python 3",
   "language": "python",
   "name": "python3"
  },
  "language_info": {
   "codemirror_mode": {
    "name": "ipython",
    "version": 3
   },
   "file_extension": ".py",
   "mimetype": "text/x-python",
   "name": "python",
   "nbconvert_exporter": "python",
   "pygments_lexer": "ipython3",
   "version": "3.7.0"
  }
 },
 "nbformat": 4,
 "nbformat_minor": 2
}
