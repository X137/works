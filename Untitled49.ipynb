{
 "cells": [
  {
   "cell_type": "code",
   "execution_count": 20,
   "metadata": {},
   "outputs": [
    {
     "name": "stderr",
     "output_type": "stream",
     "text": [
      "c:\\users\\developer\\desktop\\leix\\lib\\site-packages\\urllib3\\connectionpool.py:852: InsecureRequestWarning: Unverified HTTPS request is being made. Adding certificate verification is strongly advised. See: https://urllib3.readthedocs.io/en/latest/advanced-usage.html#ssl-warnings\n",
      "  InsecureRequestWarning)\n"
     ]
    },
    {
     "name": "stdout",
     "output_type": "stream",
     "text": [
      "<!DOCTYPE HTML>\n",
      "\n",
      "<html>\n",
      "\n",
      "<head>\n",
      "    <meta http-equiv=\"X-UA-Compatible\" content=\"IE=edge;\" />\n",
      "\t<title>\tLogin - GAS Attendance System </title>\n",
      "\t\t\t \n",
      "\t<link href=\"/css/common/bootstrap.min.css\" rel=\"stylesheet\" />\n",
      "\t\n",
      "\t<link href=\"/css/login.css\" rel=\"stylesheet\" />\n",
      "\t\t\t \n",
      "\t<script src=\"/js/jquery-1.12.4.js\"></script>\t\t \n",
      "\t<script src=\"/js/login.js\"></script>\n",
      "\t\t\t \n",
      "</head>\n",
      "\t<body>\n",
      "\t<!--  Video is muted & autoplays, placed after major DOM elements for performance & has an image fallback  -->\n",
      "<video autoplay=\"true\" loop=\"true\" id=\"video-background\" muted=\"true\" plays-inline=\"false\"></video>\n",
      "\t\n",
      "\t\t<div class=\"container\">\n",
      "\t\t\t<div class=\"card card-container\">\n",
      "\t\t\t\t<div>\n",
      "\t\t\t\t\t<img id=\"logo\" src=\"/image/logo-centered.png\" /> \n",
      "\t\t\t\t</div>\n",
      "\t\t        \n",
      "\t\t\t\t<form action=\"/login\" class=\"form-signin\" method=\"post\">\n",
      "\t\t\t\t\t\t  \n",
      "\t\t\t\t<div class=\"group\">\n",
      "\t\t\t\t\t<input type=\"text\" id=\"username\" name=\"username\" value=\"P0170\">\n",
      "\t\t\t\t\t\t\t<span class=\"highlight\"></span>\n",
      "\t\t\t\t\t\t\t</input>\n",
      "\t\t\t\t\t<span class=\"bar\"></span>\n",
      "\t\t\t\t\t<label>EMPLOYEE ID</label>\n",
      "\t\t\t\t</div>\n",
      "\t\t\t\t\n",
      "\t\t\t\t<div class=\"group\">\n",
      "\t\t\t\t\t<input type=\"password\" id=\"password\" name=\"password\" value=\"\">\n",
      "\t\t\t\t\t<span class=\"highlight\"></span>\n",
      "\t\t\t\t\t</input>\n",
      "\t\t\t\t\t<span class=\"bar\"></span>\n",
      "\t\t\t\t\t<label>PASSWORD</label>\n",
      "\t\t\t\t</div>\n",
      "\t\t\t\t\t\t\t\n",
      "\t\t\t\t\t<div style=\"margin-top: 10px;\"></div>\n",
      "\t\t\t\t\t\n",
      "\t\t\t        <div class=\"error\">\n",
      "\t\t\t            <!--<span th:text=\"${error}\"/>-->\n",
      "\t\t\t            <span>Account is being used on another device.</span>\n",
      "\t\t\t        </div>\n",
      "\t\t\t        \n",
      "\t\t\t\t\t<br />\n",
      "\t\t\t        \n",
      "\t\t\t\t\t<button class=\"btn btn-lg btn-primary btn-block btn-signin\" type=\"submit\" id=\"btnLogin\">Log in</button>\n",
      "\t\t\t\t</form>\n",
      "\t\t\t</div>\n",
      "\t\t</div>\n",
      "\t</body>\n",
      "</html>\n"
     ]
    },
    {
     "name": "stderr",
     "output_type": "stream",
     "text": [
      "c:\\users\\developer\\desktop\\leix\\lib\\site-packages\\urllib3\\connectionpool.py:852: InsecureRequestWarning: Unverified HTTPS request is being made. Adding certificate verification is strongly advised. See: https://urllib3.readthedocs.io/en/latest/advanced-usage.html#ssl-warnings\n",
      "  InsecureRequestWarning)\n",
      "c:\\users\\developer\\desktop\\leix\\lib\\site-packages\\urllib3\\connectionpool.py:852: InsecureRequestWarning: Unverified HTTPS request is being made. Adding certificate verification is strongly advised. See: https://urllib3.readthedocs.io/en/latest/advanced-usage.html#ssl-warnings\n",
      "  InsecureRequestWarning)\n"
     ]
    }
   ],
   "source": [
    "import requests\n",
    "import ssl\n",
    "import requests\n",
    "\n",
    "headers = {'User-Agent': 'Mozilla/5.0'} \n",
    "payload = {'username':'P0170','password':'LCC041607'}\n",
    "\n",
    "session = requests.Session()\n",
    "\n",
    "rtc = session.post('https://gaspc-049:8090/login',headers=headers,data=payload, verify=False)\n",
    "\n",
    "print(rtc.text) \n",
    "session.close()"
   ]
  },
  {
   "cell_type": "markdown",
   "metadata": {},
   "source": [
    "## import requests\n",
    "import ssl\n",
    "import requests\n",
    "\n",
    "\n",
    "headers = {'User-Agent': 'Mozilla/5.0'}\n",
    "payload = {'username':'P0170','password':'LCC041607'}\n",
    "\n",
    "\n",
    "session = requests.Session()\n",
    "\n",
    "rtc = session.post('https://gaspc-049:8090/login',headers=headers,data=payload, verify=False)\n",
    "\n",
    "print(rtc.text)\n",
    "session.close()\n",
    "\n",
    "\n",
    "\n"
   ]
  }
 ],
 "metadata": {
  "kernelspec": {
   "display_name": "Python 3",
   "language": "python",
   "name": "python3"
  },
  "language_info": {
   "codemirror_mode": {
    "name": "ipython",
    "version": 3
   },
   "file_extension": ".py",
   "mimetype": "text/x-python",
   "name": "python",
   "nbconvert_exporter": "python",
   "pygments_lexer": "ipython3",
   "version": "3.7.0"
  }
 },
 "nbformat": 4,
 "nbformat_minor": 2
}
