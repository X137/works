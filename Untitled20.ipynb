{
 "cells": [
  {
   "cell_type": "code",
   "execution_count": 5,
   "metadata": {},
   "outputs": [
    {
     "name": "stdout",
     "output_type": "stream",
     "text": [
      "An instance is created!\n",
      "An instance is created!\n",
      "An instance is created!\n",
      "The total number of instances are  3\n",
      "3\n",
      "['a', 'b', 'c']\n"
     ]
    }
   ],
   "source": [
    "class MyClass(object):\n",
    "    # A class attribute\n",
    "    count = 0\n",
    "\n",
    "    def __init__(self, name):\n",
    "        print(\"An instance is created!\")\n",
    "        self.name = name\n",
    "        MyClass.count += 1\n",
    "\n",
    "    # Our class method\n",
    "    @staticmethod\n",
    "    def status():\n",
    "        print(\"The total number of instances are \", MyClass.count)\n",
    "\n",
    "\n",
    "\n",
    "my_func_1 = MyClass(\"MyClass 1\")\n",
    "my_func_2 = MyClass(\"MyClass 2\")\n",
    "my_func_3 = MyClass(\"MyClass 3\")\n",
    "\n",
    "MyClass.status()\n",
    "print(MyClass.count)\n",
    "\n",
    "\n",
    "\n",
    "class PrintList(object):\n",
    "\n",
    "    def __init__(self, my_list):\n",
    "        self.mylist = my_list\n",
    "\n",
    "    def __repr__(self):\n",
    "        return str(self.mylist)\n",
    "\n",
    "\n",
    "printlist = PrintList([\"a\", \"b\", \"c\"])\n",
    "print(printlist.__repr__())"
   ]
  },
  {
   "cell_type": "code",
   "execution_count": 10,
   "metadata": {},
   "outputs": [
    {
     "name": "stdout",
     "output_type": "stream",
     "text": [
      "\n",
      "Calling the `+` builtin with both lists\n",
      "['a', 'b', 'c', 'd', 'e', 'f']\n",
      "\n",
      "Calling `__add__()` with both lists\n",
      "['a', 'b', 'c', 'd', 'e', 'f']\n"
     ]
    }
   ],
   "source": [
    "my_list_1 = [\"a\", \"b\", \"c\"]\n",
    "\n",
    "my_list_2 = [\"d\", \"e\", \"f\"]\n",
    "\n",
    "print(\"\\nCalling the `+` builtin with both lists\")\n",
    "print(my_list_1 + my_list_2)\n",
    "\n",
    "print(\"\\nCalling `__add__()` with both lists\")\n",
    "print(my_list_1.__add__(my_list_2))"
   ]
  },
  {
   "cell_type": "code",
   "execution_count": 11,
   "metadata": {},
   "outputs": [
    {
     "name": "stdout",
     "output_type": "stream",
     "text": [
      "\n",
      "Calling the get_val() method\n",
      "I'm part of the Abstract Methods defined in My_ABC_Class()\n",
      "10\n",
      "\n",
      "Calling the hello() method\n",
      "I'm *not* part of the Abstract Methods defined in My_ABC_Class()\n"
     ]
    }
   ],
   "source": [
    "import abc\n",
    "\n",
    "\n",
    "class My_ABC_Class(object):\n",
    "    __metaclass__ = abc.ABCMeta\n",
    "\n",
    "    @abc.abstractmethod\n",
    "    def set_val(self, val):\n",
    "        return\n",
    "\n",
    "    @abc.abstractmethod\n",
    "    def get_val(self):\n",
    "        return\n",
    "\n",
    "\n",
    "class MyClass(My_ABC_Class):\n",
    "\n",
    "    def set_val(self, input):\n",
    "        self.val = input\n",
    "\n",
    "    def get_val(self):\n",
    "        print(\"\\nCalling the get_val() method\")\n",
    "        print(\"I'm part of the Abstract Methods defined in My_ABC_Class()\")\n",
    "        return self.val\n",
    "\n",
    "    def hello(self):\n",
    "        print(\"\\nCalling the hello() method\")\n",
    "        print(\"I'm *not* part of the Abstract Methods defined in My_ABC_Class()\")\n",
    "\n",
    "my_class = MyClass()\n",
    "\n",
    "my_class.set_val(10)\n",
    "print(my_class.get_val())\n",
    "my_class.hello()\n",
    "\n",
    "\n"
   ]
  },
  {
   "cell_type": "code",
   "execution_count": 15,
   "metadata": {},
   "outputs": [
    {
     "name": "stdout",
     "output_type": "stream",
     "text": [
      "I'm actually being called from the Child class\n",
      "But...\n"
     ]
    }
   ],
   "source": [
    "class MyClass(object):\n",
    "\n",
    "    def func(self):\n",
    "        print(\"I'm being called from the Parent class\")\n",
    "\n",
    "\n",
    "class ChildClass(MyClass):\n",
    "\n",
    "    def func(self):\n",
    "        print(\"I'm actually being called from the Child class\")\n",
    "        print(\"But...\")\n",
    "        # Calling the `func()` method from the Parent class.\n",
    "       \n",
    "\n",
    "my_instance_2 = ChildClass()\n",
    "my_instance_2.func()"
   ]
  }
 ],
 "metadata": {
  "kernelspec": {
   "display_name": "Python 3",
   "language": "python",
   "name": "python3"
  },
  "language_info": {
   "codemirror_mode": {
    "name": "ipython",
    "version": 3
   },
   "file_extension": ".py",
   "mimetype": "text/x-python",
   "name": "python",
   "nbconvert_exporter": "python",
   "pygments_lexer": "ipython3",
   "version": "3.7.0"
  }
 },
 "nbformat": 4,
 "nbformat_minor": 2
}
