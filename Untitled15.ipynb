{
 "cells": [
  {
   "cell_type": "code",
   "execution_count": 7,
   "metadata": {},
   "outputs": [
    {
     "name": "stdout",
     "output_type": "stream",
     "text": [
      "insertion_sort: 5.8656375999999995\n",
      "insertion_sort_v2: 3.5880229999999997\n"
     ]
    }
   ],
   "source": [
    "# Exercise 2.3-6 in book\n",
    "# Standalone Python version 2.7 code\n",
    "import os\n",
    "import re\n",
    "import math\n",
    "import time\n",
    "from random import randint\n",
    "\n",
    "def insertion_sort(array):\n",
    "\tfor j, v in enumerate(array):\n",
    "\t\tkey = v\n",
    "\t\ti = j - 1\n",
    "\t\twhile i > -1 and array[i] > key:\n",
    "\t\t\tarray[i+1] = array[i]\n",
    "\t\t\ti = i - 1\n",
    "\t\tarray[i+1] = key\n",
    "\t\t\n",
    "def insertion_sort_v2(array):\n",
    "\tfor j, v in enumerate(array):\n",
    "\t\tif j > 0:\n",
    "\t\t\tkey = array[j]\n",
    "\t\t\ta = binary_search(array, key, j)\n",
    "\t\t\tfor i in range(j, a, -1):\n",
    "\t\t\t\tarray[i] = array[i-1]\n",
    "\t\t\tarray[a] = key\n",
    "\n",
    "def binary_search(array, searchingelement, arraypart):\n",
    "\tarray = list(array[:arraypart])\n",
    "\tlast = array.__len__()\n",
    "\tmid = int(last/2)\n",
    "\tmin = 0\n",
    "\tfor i in range(int(math.log(last)/math.log(2)) + 1):\n",
    "\t\tif array[mid] == searchingelement:\n",
    "\t\t\treturn mid\n",
    "\t\telif array[mid] < searchingelement:\n",
    "\t\t\tmin = mid\n",
    "\t\t\tmid = int((last + mid) / 2)\n",
    "\t\telse:\n",
    "\t\t\tlast = mid\n",
    "\t\t\tmid = int((mid + min) / 2)\n",
    "\tif array[mid] < searchingelement:\n",
    "\t\treturn mid+1\n",
    "\telif array[mid] > searchingelement:\n",
    "\t\tif mid-1 > -1:\n",
    "\t\t\treturn mid-1\n",
    "\t\telse:\n",
    "\t\t\treturn mid\n",
    "\telse:\n",
    "\t\treturn mid\n",
    "\t\n",
    "\t\n",
    "if __name__ == '__main__':\n",
    "\tarray1 = []\n",
    "\tfor i in range(10000):\n",
    "\t\tarray1.append(randint(0, 1000))\n",
    "\t\n",
    "\tarray = list(array1)\n",
    "\tt0 = time.process_time ()\n",
    "\tinsertion_sort(array)\n",
    "\tt1 = time.process_time ()\n",
    "\tprint (\"insertion_sort: \" + str(t1-t0))\n",
    "\n",
    "\tarray = list(array1)\n",
    "\tt0 = time.process_time ()\n",
    "\tinsertion_sort_v2(array)\n",
    "\tt1 = time.process_time ()\n",
    "\tprint(\"insertion_sort_v2: \" + str(t1-t0))"
   ]
  },
  {
   "cell_type": "code",
   "execution_count": 12,
   "metadata": {},
   "outputs": [
    {
     "name": "stdout",
     "output_type": "stream",
     "text": [
      "0 apple\n",
      "1 banana\n",
      "2 grapes\n",
      "3 pear\n"
     ]
    }
   ],
   "source": [
    "my_list = ['apple', 'banana', 'grapes', 'pear']\n",
    "for c, value in enumerate(my_list):\n",
    "    print(c, value)"
   ]
  },
  {
   "cell_type": "code",
   "execution_count": 23,
   "metadata": {},
   "outputs": [
    {
     "name": "stdout",
     "output_type": "stream",
     "text": [
      "5\n",
      "4\n",
      "5\n",
      "3\n",
      "4\n",
      "5\n"
     ]
    }
   ],
   "source": [
    "array = [5,4,5,3,4,5]\n",
    "for i in range(len(array)):\n",
    "    print(array[i] )"
   ]
  },
  {
   "cell_type": "code",
   "execution_count": null,
   "metadata": {},
   "outputs": [],
   "source": [
    "import pdb\n",
    "\n",
    "def make_bread():\n",
    "    pdb.set_trace()\n",
    "    return \"I don't have time\"\n",
    "\n",
    "print(make_bread())"
   ]
  },
  {
   "cell_type": "code",
   "execution_count": null,
   "metadata": {},
   "outputs": [],
   "source": []
  }
 ],
 "metadata": {
  "kernelspec": {
   "display_name": "Python 3",
   "language": "python",
   "name": "python3"
  }
 },
 "nbformat": 4,
 "nbformat_minor": 2
}
