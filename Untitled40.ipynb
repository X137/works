{
 "cells": [
  {
   "cell_type": "code",
   "execution_count": 6,
   "metadata": {},
   "outputs": [
    {
     "name": "stdout",
     "output_type": "stream",
     "text": [
      "4\n",
      "RESULT:0A VALUE:10\n",
      "double A:20 half B:2\n",
      "2\n",
      "RESULT:0A VALUE:20\n",
      "double A:40 half B:1\n",
      "1\n",
      "RESULT:40A VALUE:40\n",
      "double A:80 half B:0\n"
     ]
    },
    {
     "data": {
      "text/plain": [
       "40"
      ]
     },
     "execution_count": 6,
     "metadata": {},
     "output_type": "execute_result"
    }
   ],
   "source": [
    "def russianPeasant(a, b): \n",
    "  \n",
    "    res = 0 # initialize result \n",
    "  \n",
    "    # While second number doesn't \n",
    "    # become 1 \n",
    "    while (b > 0): \n",
    "        print(b)\n",
    "        # If second number becomes \n",
    "        # odd, add the first number \n",
    "        # to result \n",
    "        if (b & 1): \n",
    "            res = res + a \n",
    "        \n",
    "        print(\"RESULT:\" +str(res) + \"A VALUE:\" + str(a) )\n",
    "        # Double the first number  \n",
    "        # and halve the second \n",
    "        # number \n",
    "        a = a << 1\n",
    "        b = b >> 1\n",
    "        print(\"double A:\" + str(a) + \" half B:\" + str(b))\n",
    "    return res \n",
    "\n",
    "russianPeasant(10,4)\n",
    "\n"
   ]
  }
 ],
 "metadata": {
  "kernelspec": {
   "display_name": "Python 3",
   "language": "python",
   "name": "python3"
  },
  "language_info": {
   "codemirror_mode": {
    "name": "ipython",
    "version": 3
   },
   "file_extension": ".py",
   "mimetype": "text/x-python",
   "name": "python",
   "nbconvert_exporter": "python",
   "pygments_lexer": "ipython3",
   "version": "3.7.0"
  }
 },
 "nbformat": 4,
 "nbformat_minor": 2
}
