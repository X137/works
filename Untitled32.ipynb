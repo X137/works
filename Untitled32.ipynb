{
 "cells": [
  {
   "cell_type": "code",
   "execution_count": 1,
   "metadata": {},
   "outputs": [
    {
     "ename": "SystemExit",
     "evalue": "0",
     "output_type": "error",
     "traceback": [
      "An exception has occurred, use %tb to see the full traceback.\n",
      "\u001b[1;31mSystemExit\u001b[0m\u001b[1;31m:\u001b[0m 0\n"
     ]
    },
    {
     "name": "stderr",
     "output_type": "stream",
     "text": [
      "c:\\users\\developer\\desktop\\leix\\lib\\site-packages\\IPython\\core\\interactiveshell.py:2969: UserWarning: To exit: use 'exit', 'quit', or Ctrl-D.\n",
      "  warn(\"To exit: use 'exit', 'quit', or Ctrl-D.\", stacklevel=1)\n"
     ]
    }
   ],
   "source": [
    "import sys\n",
    "from PyQt5 import QtCore, QtWidgets\n",
    "\n",
    "class Ui_FirstWindow(object):\n",
    "    def setupUi(self, FirstWindow):\n",
    "        \n",
    "        FirstWindow.setObjectName(\"Translation\")\n",
    "        FirstWindow.resize(400, 300)\n",
    "        self.centralWidget = QtWidgets.QWidget(FirstWindow)\n",
    "        self.centralWidget.setObjectName(\"centralWidget\")\n",
    "        self.pushButton = QtWidgets.QPushButton(self.centralWidget)\n",
    "        self.pushButton.setGeometry(QtCore.QRect(110, 130, 191, 23))\n",
    "        self.pushButton.setObjectName(\"pushButton\")\n",
    "        \n",
    "        FirstWindow.setCentralWidget(self.centralWidget)\n",
    "\n",
    "        self.retranslateUi(FirstWindow)\n",
    "        QtCore.QMetaObject.connectSlotsByName(FirstWindow)\n",
    "        \n",
    "    def retranslateUi(self, MainWindow):\n",
    "        _translate = QtCore.QCoreApplication.translate\n",
    "        MainWindow.setWindowTitle(_translate(\"FirstWindow\", \"FirstWindow\"))\n",
    "        self.pushButton.setText(_translate(\"FirstWindow\", \"Capture Image\"))\n",
    "\n",
    "    def LoadSecondWindow(self):\n",
    "        SecondWindow = QtWidgets.QMainWindow()\n",
    "        ui = Ui_SecondWindow()\n",
    "        ui.setupUi(SecondWindow)\n",
    "        SecondWindow.show()\n",
    "        \n",
    "class Ui_SecondWindow(object):\n",
    "    \n",
    "    def setupUi(self, SecondWindow):\n",
    "        SecondWindow.setObjectName(\"SecondWindow\")\n",
    "        shape = QtWidgets.QDesktopWidget().screenGeometry() \n",
    "        \n",
    "        self.centralWidget = QtWidgets.QWidget(SecondWindow)\n",
    "        self.centralWidget.setObjectName(\"centralWidget\")\n",
    "        self.pushButton = QtWidgets.QPushButton(self.centralWidget)\n",
    "        self.pushButton.setGeometry(QtCore.QRect(110, 130, 191, 23))\n",
    "        self.pushButton.setObjectName(\"pushButton\")\n",
    "        SecondWindow.setCentralWidget(self.centralWidget)\n",
    "\n",
    "        QtCore.QMetaObject.connectSlotsByName(SecondWindow)\n",
    "    \n",
    "   \n",
    "        \n",
    "class Controller:\n",
    "\n",
    "    def __init__(self):\n",
    "        pass\n",
    "\n",
    "    def Show_FirstWindow(self):\n",
    "\n",
    "        self.FirstWindow = QtWidgets.QMainWindow()\n",
    "        self.ui = Ui_FirstWindow()\n",
    "        self.ui.setupUi(self.FirstWindow)\n",
    "        self.ui.pushButton.clicked.connect(self.Show_SecondWindow)\n",
    "        self.FirstWindow.show()\n",
    "\n",
    "    def Show_SecondWindow(self):\n",
    "        \n",
    "        self.SecondWindow = QtWidgets.QMainWindow()\n",
    "        self.ui = Ui_SecondWindow()\n",
    "   \n",
    "\n",
    "        self.SecondWindow.show()\n",
    "\n",
    "    def Print(self):\n",
    "        print('After 99 hours of trying out everything')\n",
    "\n",
    "if __name__ == '__main__':\n",
    "    app = QtWidgets.QApplication(sys.argv)\n",
    "    Controller = Controller()\n",
    "    Controller.Show_FirstWindow()\n",
    "    sys.exit(app.exec_())"
   ]
  }
 ],
 "metadata": {
  "kernelspec": {
   "display_name": "Python 3",
   "language": "python",
   "name": "python3"
  },
  "language_info": {
   "codemirror_mode": {
    "name": "ipython",
    "version": 3
   },
   "file_extension": ".py",
   "mimetype": "text/x-python",
   "name": "python",
   "nbconvert_exporter": "python",
   "pygments_lexer": "ipython3",
   "version": "3.7.0"
  }
 },
 "nbformat": 4,
 "nbformat_minor": 2
}
