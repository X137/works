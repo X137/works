{
 "cells": [
  {
   "cell_type": "code",
   "execution_count": 1,
   "metadata": {},
   "outputs": [],
   "source": [
    "import pandas as pd\n",
    "\n",
    "data = [['New York Yankees', 'Acevedo Juan', 900000, 'Pitcher'],\n",
    "        ['New York Yankees', 'Anderson Jason', 300000, 'Pitcher'], \n",
    "        ['New York Yankees', 'Clemens Roger', 10100000, 'Pitcher'], \n",
    "        ['New York Yankees', 'Contreras Jose', 5500000, 'Pitcher']]\n",
    "\n",
    "df = pd.DataFrame(data)\n"
   ]
  }
 ],
 "metadata": {
  "kernelspec": {
   "display_name": "Python 3",
   "language": "python",
   "name": "python3"
  },
  "language_info": {
   "codemirror_mode": {
    "name": "ipython",
    "version": 3
   },
   "file_extension": ".py",
   "mimetype": "text/x-python",
   "name": "python",
   "nbconvert_exporter": "python",
   "pygments_lexer": "ipython3",
   "version": "3.7.0"
  }
 },
 "nbformat": 4,
 "nbformat_minor": 2
}
