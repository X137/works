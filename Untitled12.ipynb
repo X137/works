{
 "cells": [
  {
   "cell_type": "code",
   "execution_count": 3,
   "metadata": {},
   "outputs": [
    {
     "ename": "SystemExit",
     "evalue": "1",
     "output_type": "error",
     "traceback": [
      "An exception has occurred, use %tb to see the full traceback.\n",
      "\u001b[1;31mSystemExit\u001b[0m\u001b[1;31m:\u001b[0m 1\n"
     ]
    }
   ],
   "source": [
    "from kivy.app import App\n",
    "from kivy.uix.label import Label\n",
    "from kivy.clock import Clock\n",
    "\n",
    "import time\n",
    "\n",
    "class IncrediblyCrudeClock(Label):\n",
    "    def update(self, *args):\n",
    "        self.text = time.asctime()\n",
    "\n",
    "class TimeApp(App):\n",
    "    def build(self):\n",
    "        crudeclock = IncrediblyCrudeClock()\n",
    "        Clock.schedule_interval(crudeclock.update, 1)\n",
    "        return crudeclock\n",
    "\n",
    "if __name__ == \"__main__\":\n",
    "    TimeApp().run()"
   ]
  }
 ],
 "metadata": {
  "kernelspec": {
   "display_name": "Python 3",
   "language": "python",
   "name": "python3"
  }
 },
 "nbformat": 4,
 "nbformat_minor": 2
}
