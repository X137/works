{
 "cells": [
  {
   "cell_type": "code",
   "execution_count": 16,
   "metadata": {},
   "outputs": [
    {
     "name": "stdout",
     "output_type": "stream",
     "text": [
      "<http.client.HTTPResponse object at 0x00000000059766A0>\n"
     ]
    }
   ],
   "source": [
    "import requests\n",
    "import ssl\n",
    "import urllib.request\n",
    "\n",
    "url = \"https://gaspc-049:8090/login\"\n",
    "ssl._create_default_https_context = ssl._create_unverified_context\n",
    "urllib.request.urlopen(url)\n",
    "print(test)\n",
    "\n",
    "\n",
    "import requests\n",
    "files = {\n",
    "    'username': (None, 'myusername'),\n",
    "    'password': (None, 'mypassword'),\n",
    "}\n",
    "response = requests.post('https://gaspc-049.com/abc', files=files)\n",
    "\n",
    "\n",
    "# with urllib.request.urlopen(test) as response:\n",
    "#    the_page = response.read()\n",
    "#\n",
    "# values = {'username': 'user',\n",
    "#           'password': 'pass'}\n",
    "\n",
    "# r = requests.post(url, data=values)\n"
   ]
  }
 ],
 "metadata": {
  "kernelspec": {
   "display_name": "Python 3",
   "language": "python",
   "name": "python3"
  },
  "language_info": {
   "codemirror_mode": {
    "name": "ipython",
    "version": 3
   },
   "file_extension": ".py",
   "mimetype": "text/x-python",
   "name": "python",
   "nbconvert_exporter": "python",
   "pygments_lexer": "ipython3",
   "version": "3.7.0"
  }
 },
 "nbformat": 4,
 "nbformat_minor": 2
}
