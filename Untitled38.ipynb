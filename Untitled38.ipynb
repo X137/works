{
 "cells": [
  {
   "cell_type": "code",
   "execution_count": 1,
   "metadata": {},
   "outputs": [
    {
     "ename": "SyntaxError",
     "evalue": "invalid syntax (<ipython-input-1-f54ef51bdbdf>, line 39)",
     "output_type": "error",
     "traceback": [
      "\u001b[1;36m  File \u001b[1;32m\"<ipython-input-1-f54ef51bdbdf>\"\u001b[1;36m, line \u001b[1;32m39\u001b[0m\n\u001b[1;33m    Egaita yume to koko ni aru ima\u001b[0m\n\u001b[1;37m              ^\u001b[0m\n\u001b[1;31mSyntaxError\u001b[0m\u001b[1;31m:\u001b[0m invalid syntax\n"
     ]
    }
   ],
   "source": [
    "# Python program for implementation of MergeSort \n",
    "\n",
    "def mergeSort(arr): \n",
    "    if len(arr) >1: \n",
    "        mid = len(arr)//2 #Finding the mid of the array \n",
    "        L = arr[:mid] # Dividing the array elements  \n",
    "        R = arr[mid:] # into 2 halves \n",
    "  \n",
    "        mergeSort(L) # Sorting the first half \n",
    "        mergeSort(R) # Sorting the second half \n",
    "  \n",
    "        i = j = k = 0\n",
    "          \n",
    "        # Copy data to temp arrays L[] and R[] \n",
    "        while i < len(L) and j < len(R): \n",
    "            if L[i] < R[j]: \n",
    "                arr[k] = L[i] \n",
    "                i+=1\n",
    "            else: \n",
    "                arr[k] = R[j] \n",
    "                j+=1\n",
    "            k+=1\n",
    "        # Checking if any element was left \n",
    "        while i < len(L): \n",
    "            arr[k] = L[i] \n",
    "            i+=1\n",
    "            k+=1\n",
    "          \n",
    "        while j < len(R): \n",
    "            arr[k] = R[j] \n",
    "            j+=1\n",
    "            k+=1\n",
    "  \n",
    "# Code to print the list \n",
    "def printList(arr): \n",
    "    for i in range(len(arr)):         \n",
    "        print(arr[i],end=\" \") \n",
    "    print() \n",
    "Egaita yume to koko ni aru ima\n",
    "Futatsu no keshiki mikurabetemo\n",
    "Katachi wo kaete koko ni aru no ha\n",
    "Tashikana hitotsu no mono\n",
    "\n",
    "Sugiyuku haru wo oshiminagara mo\n",
    "Bokura no maku aketa ano natsu\n",
    "Ironna koto wo wakarihajimeta\n",
    "Aki to nani ka ushinatta fuyu\n",
    "\n",
    "Garakuta no yama kara sagasu ano hi no yume\n",
    "Hibike kono koe yo hibike kono kokoro yo\n",
    "\n",
    "Namida kareru made\n",
    "Mada denu kotae oitsuzukete\n",
    "Namida hareru made\n",
    "Wa ga yukue mayoinagara mo\n",
    "Egakikake no ima\n",
    "Kizamu akashi kono te de\n",
    "\n",
    "Kimi to mita hana na no nai hana ha\n",
    "Ima mo kawarazu saiteiru yo\n",
    "Iro ha chigaedo kimi ha chigaedo\n",
    "Tashikani saiteiru yo\n",
    "\n",
    "Garagara no koe kara sasaru sakebi no uta\n",
    "Hibike kono koe yo hibike kono kokoro yo\n",
    "\n",
    "Namida kareru made\n",
    "Tomo ni asu mita kimi yo mada\n",
    "Namida hareru made\n",
    "Warehito yukue sutekirenu nara\n",
    "Egakikake no ima\n",
    "Omoide ni shinai de\n",
    "\n",
    "Mou nukegara no kimi wo\n",
    "Mou mitaku ha nai kara\n",
    "Hibike kono koe yo hibike kono kokoro yo\n",
    "\n",
    "Namida kareru made\n",
    "Kansei no mienai e wo\n",
    "Namida hareru made\n",
    "Wa ga yukue mayoinagara mo\n",
    "Egakikake no ima\n",
    "Kizamu akashi kono te de\n",
    "    \n",
    "    \n",
    "    \n",
    "    \n",
    "# driver code to test the above code \n",
    "if __name__ == '__main__': \n",
    "    arr = [12, 11, 13, 5, 6, 7]  \n",
    "    print (\"Given array is\", end=\"\\n\")  \n",
    "    printList(arr) \n",
    "    mergeSort(arr) \n",
    "    print(\"Sorted array is: \", end=\"\\n\") \n",
    "    printList(arr) \n",
    "  \n",
    "# This code is contributed by Mayank Khanna\n",
    "\n",
    "# driver code to test the above code \n",
    "if __name__ == '__main__': \n",
    "    arr = [12, 11, 13, 5, 6, 7]  \n",
    "    print (\"Given array is\", end=\"\\n\")  \n",
    "    printList(arr) \n",
    "    mergeSort(arr) \n",
    "    print(\"Sorted array is: \", end=\"\\n\") \n",
    "    printList(arr) \n",
    "\n",
    "\n",
    "# \n",
    " \n",
    "    \n",
    "\n",
    "#\n",
    "[ '( ´•౪•`)',' ＼＼\\\\ ٩( ‘ω’ )و //／／']\n",
    "\n",
    "\n"
   ]
  },
  {
   "cell_type": "code",
   "execution_count": 4,
   "metadata": {},
   "outputs": [
    {
     "name": "stdout",
     "output_type": "stream",
     "text": [
      "😀\n",
      "😆\n",
      "🤣\n"
     ]
    }
   ],
   "source": [
    "print(\"\\U0001f600\") \n",
    "  \n",
    "# grinning squinting face \n",
    "print(\"\\U0001F606\") \n",
    "  \n",
    "# rolling on the floor laughing \n",
    "print(\"\\U0001F923\") "
   ]
  },
  {
   "cell_type": "code",
   "execution_count": 1,
   "metadata": {},
   "outputs": [
    {
     "name": "stdout",
     "output_type": "stream",
     "text": [
      "3\n"
     ]
    }
   ],
   "source": [
    "print(3 << 0)"
   ]
  },
  {
   "cell_type": "code",
   "execution_count": null,
   "metadata": {},
   "outputs": [],
   "source": [
    "def russianPeasant(a, b): \n",
    "  \n",
    "    res = 0 # initialize result \n",
    "  \n",
    "    # While second number doesn't \n",
    "    # become 1 \n",
    "    while (b > 0): \n",
    "        print(b)\n",
    "        # If second number becomes \n",
    "        # odd, add the first number \n",
    "        # to result \n",
    "        if (b & 1): \n",
    "            res = res + a \n",
    "  \n",
    "        # Double the first number  \n",
    "        # and halve the second \n",
    "        # number \n",
    "        a = a << 1\n",
    "        b = b >> 1\n",
    "        print(\"double A:\" + a + \" half B:\" + b)\n",
    "    return res \n",
    "\n",
    "russianPeasant(10,3)\n",
    "\n"
   ]
  }
 ],
 "metadata": {
  "kernelspec": {
   "display_name": "Python 3",
   "language": "python",
   "name": "python3"
  },
  "language_info": {
   "codemirror_mode": {
    "name": "ipython",
    "version": 3
   },
   "file_extension": ".py",
   "mimetype": "text/x-python",
   "name": "python",
   "nbconvert_exporter": "python",
   "pygments_lexer": "ipython3",
   "version": "3.7.0"
  }
 },
 "nbformat": 4,
 "nbformat_minor": 2
}
